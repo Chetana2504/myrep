{
 "cells": [
  {
   "cell_type": "raw",
   "id": "49a78b52",
   "metadata": {},
   "source": [
    "Q1) Explain the key features of Python that make it a popular choice for programming.\n",
    "\n",
    "Ans: 1) Easy to Learn and Read : Python syntax is easy . Its code are almost like plain english.\n",
    "     2) InterprQeted Language: Python is an interpreted language, meaning code is executed line by line , hence debugging is             easy.\n",
    "     3) Versatile and Powerful: Python can be used for a wide range of applications.\n",
    "     4) Large Standard Library: Provide pre-written code for common task.\n",
    "     5) Open Source: Python is free to use. \n"
   ]
  },
  {
   "cell_type": "raw",
   "id": "3141f273",
   "metadata": {},
   "source": [
    "  Q2) Describe the role of predefined keyword in python and provide examples of how they are used in a program.\n",
    "\n",
    "Ans: Keywords are predifined words that hold a special meaning and have      purpose. \n",
    "     example: if , elif , else ,True , False , None , Continue etc."
   ]
  },
  {
   "cell_type": "code",
   "execution_count": 1,
   "id": "dcf87160",
   "metadata": {},
   "outputs": [
    {
     "name": "stdout",
     "output_type": "stream",
     "text": [
      "x is greater than 5\n"
     ]
    }
   ],
   "source": [
    "#example\n",
    "x = 10\n",
    "if x > 5:\n",
    "    print(\"x is greater than 5\")\n",
    "elif x == 5:\n",
    "    print(\"x is equal to 5\")\n",
    "else:\n",
    "    print(\"x is less than 5\")\n",
    "\n"
   ]
  },
  {
   "cell_type": "raw",
   "id": "cb9c4529",
   "metadata": {},
   "source": [
    "Q3) compare and contrast mutable and immutable objects in python with example.\n",
    "\n",
    "Ans: Mutable objects are those whoes values can be changed after the creation. \n",
    "     ex. List , Sets , Dictionry\n",
    "     Immutable objects are those whose values can not be modified after creation\n",
    "     "
   ]
  },
  {
   "cell_type": "code",
   "execution_count": 2,
   "id": "ce433667",
   "metadata": {},
   "outputs": [
    {
     "data": {
      "text/plain": [
       "5"
      ]
     },
     "execution_count": 2,
     "metadata": {},
     "output_type": "execute_result"
    }
   ],
   "source": [
    "#example \n",
    "my_list = [2,3.3,5,\"Ajay\",\"Vijay\"]\n",
    "my_list[2]"
   ]
  },
  {
   "cell_type": "code",
   "execution_count": 3,
   "id": "2957462c",
   "metadata": {},
   "outputs": [
    {
     "data": {
      "text/plain": [
       "[2, 3.3, 100, 'Ajay', 'Vijay']"
      ]
     },
     "execution_count": 3,
     "metadata": {},
     "output_type": "execute_result"
    }
   ],
   "source": [
    "my_list[2] = 100\n",
    "my_list"
   ]
  },
  {
   "cell_type": "code",
   "execution_count": 4,
   "id": "bd6ce94d",
   "metadata": {},
   "outputs": [
    {
     "data": {
      "text/plain": [
       "(5, 2, 7)"
      ]
     },
     "execution_count": 4,
     "metadata": {},
     "output_type": "execute_result"
    }
   ],
   "source": [
    "#immutable example\n",
    "my_touple = (5,2,7)\n",
    "my_touple"
   ]
  },
  {
   "cell_type": "raw",
   "id": "df5e064e",
   "metadata": {},
   "source": [
    "Q4) Discuss the different types of operator in python and provide example of how they are used.\n",
    "\n",
    "Ans: Operators are special symbols that perform operations on variables and values.\n",
    "1. Arithmetic Operators: Addition (+) , Subtraction (-) , Multiplication (*) , Division (/), Floor Division (//) , Modulus (%) ,    Exponentiation (**)\n",
    "2. Comparison Operators :Equal to (==) , Not equal to (!=),Greater than (>) , Less than (<) , Greater than or equal to (>=) , Less than or equal to (<=)\n",
    "3. Logical Operators: AND , OR , NOT\n",
    "4. Assignment Operators: (=) , (+=) , \n",
    "5. Bitwise Operators\n"
   ]
  },
  {
   "cell_type": "code",
   "execution_count": 5,
   "id": "adf3e675",
   "metadata": {},
   "outputs": [
    {
     "data": {
      "text/plain": [
       "7"
      ]
     },
     "execution_count": 5,
     "metadata": {},
     "output_type": "execute_result"
    }
   ],
   "source": [
    "a = 5\n",
    "b = 2\n",
    "a + b\n"
   ]
  },
  {
   "cell_type": "code",
   "execution_count": 6,
   "id": "7f582b25",
   "metadata": {},
   "outputs": [
    {
     "data": {
      "text/plain": [
       "2.5"
      ]
     },
     "execution_count": 6,
     "metadata": {},
     "output_type": "execute_result"
    }
   ],
   "source": [
    "a / b"
   ]
  },
  {
   "cell_type": "code",
   "execution_count": 7,
   "id": "8c576a22",
   "metadata": {},
   "outputs": [
    {
     "data": {
      "text/plain": [
       "True"
      ]
     },
     "execution_count": 7,
     "metadata": {},
     "output_type": "execute_result"
    }
   ],
   "source": [
    "a > b"
   ]
  },
  {
   "cell_type": "code",
   "execution_count": 8,
   "id": "3dd66929",
   "metadata": {},
   "outputs": [
    {
     "data": {
      "text/plain": [
       "False"
      ]
     },
     "execution_count": 8,
     "metadata": {},
     "output_type": "execute_result"
    }
   ],
   "source": [
    "a == b"
   ]
  },
  {
   "cell_type": "code",
   "execution_count": 9,
   "id": "a2caf447",
   "metadata": {},
   "outputs": [
    {
     "data": {
      "text/plain": [
       "False"
      ]
     },
     "execution_count": 9,
     "metadata": {},
     "output_type": "execute_result"
    }
   ],
   "source": [
    " a > 2 and b >3 "
   ]
  },
  {
   "cell_type": "code",
   "execution_count": 10,
   "id": "77e27b5f",
   "metadata": {},
   "outputs": [
    {
     "data": {
      "text/plain": [
       "True"
      ]
     },
     "execution_count": 10,
     "metadata": {},
     "output_type": "execute_result"
    }
   ],
   "source": [
    "a > 2 or b > 3"
   ]
  },
  {
   "cell_type": "code",
   "execution_count": 11,
   "id": "4a1ba96b",
   "metadata": {},
   "outputs": [],
   "source": [
    "c = a + b"
   ]
  },
  {
   "cell_type": "code",
   "execution_count": 12,
   "id": "d73adccd",
   "metadata": {},
   "outputs": [
    {
     "data": {
      "text/plain": [
       "7"
      ]
     },
     "execution_count": 12,
     "metadata": {},
     "output_type": "execute_result"
    }
   ],
   "source": [
    "c\n"
   ]
  },
  {
   "cell_type": "markdown",
   "id": "5b8bb810",
   "metadata": {},
   "source": [
    "Q5) Explain the concept of type casting in python with example\n",
    "\n",
    "Ans: The process of changing the data types of values/ object is known as type casting.\n"
   ]
  },
  {
   "cell_type": "code",
   "execution_count": 13,
   "id": "544fc05e",
   "metadata": {},
   "outputs": [
    {
     "ename": "TypeError",
     "evalue": "can only concatenate str (not \"int\") to str",
     "output_type": "error",
     "traceback": [
      "\u001b[1;31m---------------------------------------------------------------------------\u001b[0m",
      "\u001b[1;31mTypeError\u001b[0m                                 Traceback (most recent call last)",
      "Cell \u001b[1;32mIn[13], line 4\u001b[0m\n\u001b[0;32m      2\u001b[0m a \u001b[38;5;241m=\u001b[39m\u001b[38;5;124m\"\u001b[39m\u001b[38;5;124m5\u001b[39m\u001b[38;5;124m\"\u001b[39m\n\u001b[0;32m      3\u001b[0m b \u001b[38;5;241m=\u001b[39m \u001b[38;5;241m2\u001b[39m\n\u001b[1;32m----> 4\u001b[0m a\u001b[38;5;241m+\u001b[39mb\n",
      "\u001b[1;31mTypeError\u001b[0m: can only concatenate str (not \"int\") to str"
     ]
    }
   ],
   "source": [
    "#ex \n",
    "a =\"5\"\n",
    "b = 2\n",
    "a+b"
   ]
  },
  {
   "cell_type": "code",
   "execution_count": 14,
   "id": "b6377654",
   "metadata": {},
   "outputs": [
    {
     "data": {
      "text/plain": [
       "7"
      ]
     },
     "execution_count": 14,
     "metadata": {},
     "output_type": "execute_result"
    }
   ],
   "source": [
    "#type casting\n",
    "a = \"5\"\n",
    "b = 2\n",
    "int(a)+b"
   ]
  },
  {
   "cell_type": "raw",
   "id": "f876a6f7",
   "metadata": {},
   "source": [
    "Q6) How do conditional statement work in python? Illustrate with examples.\n",
    "\n",
    "Ans: Conditional statements in Python allows to  execute different blocks of code based on whether a condition is true or          false."
   ]
  },
  {
   "cell_type": "code",
   "execution_count": 15,
   "id": "6554c570",
   "metadata": {},
   "outputs": [
    {
     "name": "stdout",
     "output_type": "stream",
     "text": [
      " Enter your name: Chetana\n",
      "Enter your email: chetana@gmail.com\n",
      " Enter Password: 123465\n",
      "Registration is successfull!\n"
     ]
    }
   ],
   "source": [
    "#example\n",
    "name = input(\" Enter your name: \")\n",
    "email = input(\"Enter your email: \")\n",
    "password = input(\" Enter Password: \")\n",
    "if name == \"\":\n",
    "    print(\"Please enter valid name\")\n",
    "else:\n",
    "    if \"@\" not in email:\n",
    "        print(\"Please enter valid email\")\n",
    "    else:\n",
    "        if len(password)<6:\n",
    "            print(\"Please enter valid password\")\n",
    "        else:\n",
    "            print(\"Registration is successfull!\")"
   ]
  },
  {
   "cell_type": "raw",
   "id": "dd91561f",
   "metadata": {},
   "source": [
    "Q7) Describe the different types of loops in python and their use cases with example.\n",
    "\n",
    "Ans: In Python, loops are used to execute a block of code repeatedly based on a condition. Python supports three main types of loops:\n",
    "\n",
    "for Loop\n",
    "while Loop\n",
    "nested Loop\n",
    "1. for Loop\n",
    "The for loop is used to iterate over a sequence (like a list, tuple, string, or range). It is commonly used when you know in advance how many times you want to execute a block of code.\n",
    "\n",
    "2. While loop\n",
    "The while loop repeatedly executes a block of code as long as a given condition is true. It is used when the number of iterations is not known in advance and is determined by some condition\n",
    "\n",
    "3.Nested loops are loops inside other loops. Both for and while loops can be nested inside each other.\n"
   ]
  },
  {
   "cell_type": "code",
   "execution_count": 16,
   "id": "c2071ebf",
   "metadata": {},
   "outputs": [
    {
     "name": "stdout",
     "output_type": "stream",
     "text": [
      "Apple\n",
      "Mango\n",
      "Banana\n",
      "Orange\n"
     ]
    }
   ],
   "source": [
    "#example of for loop\n",
    "fruits = [\"Apple\",\"Mango\",\"Banana\",\"Orange\"]\n",
    "for fruit in fruits:\n",
    "    print(fruit)"
   ]
  },
  {
   "cell_type": "code",
   "execution_count": 19,
   "id": "864de7a8",
   "metadata": {},
   "outputs": [
    {
     "name": "stdout",
     "output_type": "stream",
     "text": [
      "0\n",
      "1\n",
      "2\n",
      "3\n",
      "4\n"
     ]
    }
   ],
   "source": [
    "#example of while loop\n",
    "count = 0\n",
    "while count < 5:\n",
    "    print(count)\n",
    "    count += 1"
   ]
  },
  {
   "cell_type": "code",
   "execution_count": 20,
   "id": "909be51f",
   "metadata": {},
   "outputs": [
    {
     "name": "stdout",
     "output_type": "stream",
     "text": [
      "* * * * * * \n",
      "* * * * * * \n",
      "* * * * * * \n",
      "* * * * * * \n"
     ]
    }
   ],
   "source": [
    "# Nested loop\n",
    "rows = 4\n",
    "columns = 6\n",
    "\n",
    "# Outer loop for rows\n",
    "for i in range(rows):\n",
    "    # Inner loop for columns\n",
    "    for j in range(columns):\n",
    "        print(\"*\", end=\" \")  # Print a star followed by a space\n",
    "    print()  # Newline after each row\n"
   ]
  },
  {
   "cell_type": "code",
   "execution_count": null,
   "id": "76531be2",
   "metadata": {},
   "outputs": [],
   "source": []
  }
 ],
 "metadata": {
  "kernelspec": {
   "display_name": "Python 3 (ipykernel)",
   "language": "python",
   "name": "python3"
  },
  "language_info": {
   "codemirror_mode": {
    "name": "ipython",
    "version": 3
   },
   "file_extension": ".py",
   "mimetype": "text/x-python",
   "name": "python",
   "nbconvert_exporter": "python",
   "pygments_lexer": "ipython3",
   "version": "3.11.5"
  }
 },
 "nbformat": 4,
 "nbformat_minor": 5
}
